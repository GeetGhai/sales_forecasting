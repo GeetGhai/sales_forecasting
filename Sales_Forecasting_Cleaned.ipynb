{
 "cells": [
  {
   "cell_type": "markdown",
   "id": "1e590ed1",
   "metadata": {},
   "source": [
    "# 🧠 Sales Forecasting Using Machine Learning\n",
    "\n",
    "This project builds a regression model to forecast future sales using historical data. Accurate sales forecasts help businesses with inventory planning, budgeting, and strategy.\n",
    "\n"
   ]
  },
  {
   "cell_type": "markdown",
   "id": "e7f38b34",
   "metadata": {},
   "source": [
    "## 📂 Dataset Overview\n",
    "\n",
    "The dataset includes sales records with dates and corresponding revenue. We'll clean, visualize, and model this data to generate accurate monthly sales forecasts.\n",
    "\n"
   ]
  },
  {
   "cell_type": "code",
   "execution_count": null,
   "id": "c62a7f5c-abc2-48d6-9bc5-4c2d59918ca6",
   "metadata": {},
   "outputs": [],
   "source": [
    "# BigMart Sales Prediction\n",
    "\n",
    "'''Objective\n",
    "The data scientists at BigMart have collected sales data for 1559 products across 10 stores in different cities. \n",
    "Also, certain attributes of each product and store have been defined. The aim is to build a predictive model and\n",
    " find out the sales of each product at a particular store (each row of data).\n",
    "    \n",
    "So the idea is to find out the features (properties) of a product, and store which impacts the sales of a product.'''\n",
    "\n",
    "import pandas as pd\n",
    "df= pd.read_csv('sales_prediction.csv')\n",
    "df"
   ]
  },
  {
   "cell_type": "code",
   "execution_count": null,
   "id": "6c74e67c-675b-4da7-b94d-add2ccb6564d",
   "metadata": {},
   "outputs": [],
   "source": [
    "df.head()"
   ]
  },
  {
   "cell_type": "code",
   "execution_count": null,
   "id": "3a5f4fda-c0f7-40f1-bccd-2cc3fe91af3e",
   "metadata": {},
   "outputs": [],
   "source": [
    "df.info()"
   ]
  },
  {
   "cell_type": "markdown",
   "id": "c7e1159f-9e0a-484a-b4fc-027c4db517b3",
   "metadata": {},
   "source": [
    " # prepare training and test dataset  -->\n",
    "\n",
    "need data to train model and need unseen data to meausure model performance\n",
    "we take ratio of 70 and 30( 70% of data used for train and 30% of data will use in testing the model)"
   ]
  },
  {
   "cell_type": "code",
   "execution_count": null,
   "id": "08699b6c-50fd-4cb1-8cb1-b8d593cc9dec",
   "metadata": {},
   "outputs": [],
   "source": [
    "x=df.drop(columns=['Item_Outlet_Sales'])\n",
    "y=df['Item_Outlet_Sales']"
   ]
  },
  {
   "cell_type": "code",
   "execution_count": null,
   "id": "721257a5-b28f-4c5f-a9cf-aaca504f25c9",
   "metadata": {},
   "outputs": [],
   "source": [
    "!pip install scikit-learn\n",
    "import sklearn\n",
    "\n",
    "from sklearn.model_selection  import train_test_split\n",
    "\n",
    "x_train,x_test,y_train,y_test=train_test_split(x,y,random_state=11)\n",
    "\n",
    "x_train.shape"
   ]
  },
  {
   "cell_type": "code",
   "execution_count": null,
   "id": "28cfb2d0-bf24-4f41-a899-8f337a47fe9b",
   "metadata": {},
   "outputs": [],
   "source": [
    "x_test.shape"
   ]
  },
  {
   "cell_type": "markdown",
   "id": "0237fc93-ff86-4fb2-b6db-8613caa29d85",
   "metadata": {},
   "source": [
    "# data wrangling and eda and feature engieering"
   ]
  },
  {
   "cell_type": "code",
   "execution_count": null,
   "id": "043abe6b-ff1f-4aba-a8b6-287b9da248cb",
   "metadata": {},
   "outputs": [],
   "source": [
    "# make a copy of data to do some modeifications\n",
    "x_train_c=x_train.copy()"
   ]
  },
  {
   "cell_type": "code",
   "execution_count": null,
   "id": "7d55275f-a734-42fd-b807-e69c48def4e7",
   "metadata": {},
   "outputs": [],
   "source": [
    "x_train_c.info()"
   ]
  },
  {
   "cell_type": "code",
   "execution_count": null,
   "id": "2ac25634-3d98-41bf-af9d-8093acf591cb",
   "metadata": {},
   "outputs": [],
   "source": [
    "x_train_c.isnull().sum()"
   ]
  },
  {
   "cell_type": "code",
   "execution_count": null,
   "id": "94a78914-7a86-4a4e-8862-f04beb8a21b5",
   "metadata": {},
   "outputs": [],
   "source": [
    "num_data=x_train_c.select_dtypes(exclude=['object'])\n",
    "num_data"
   ]
  },
  {
   "cell_type": "code",
   "execution_count": null,
   "id": "071f59e3-3344-4488-83af-9d657da3e6ae",
   "metadata": {},
   "outputs": [],
   "source": [
    "num_data.describe()"
   ]
  },
  {
   "cell_type": "code",
   "execution_count": null,
   "id": "61259765-f338-478b-aed1-e3e65519cca3",
   "metadata": {},
   "outputs": [],
   "source": [
    "num_data.isnull().sum()"
   ]
  },
  {
   "cell_type": "code",
   "execution_count": null,
   "id": "e32aecd8-e993-48a4-a168-7854ca4e2f10",
   "metadata": {},
   "outputs": [],
   "source": [
    "import seaborn as sns\n",
    "import matplotlib.pyplot as plt"
   ]
  },
  {
   "cell_type": "code",
   "execution_count": null,
   "id": "28120d10-27e4-4e3e-9f00-9ceffdf8f776",
   "metadata": {},
   "outputs": [],
   "source": [
    "fig,ax=plt.subplots(1,2,figsize=(12,5))\n",
    "\n",
    "sns.histplot(data=x_train_c,x=x_train_c['Item_Weight'],ax=ax[0])\n",
    "sns.boxplot(data=x_train_c,y=x_train_c['Item_Weight'],ax=ax[1])"
   ]
  },
  {
   "cell_type": "code",
   "execution_count": null,
   "id": "ac78a9e6-6aa5-4567-aa78-35338dfcb8e5",
   "metadata": {},
   "outputs": [],
   "source": [
    "def visualize(data_frame,col_name):\n",
    "    fig,ax=plt.subplots(1,2,figsize=(12,5))\n",
    "\n",
    "    sns.histplot(data=data_frame,x=col_name,ax=ax[0])\n",
    "    sns.boxplot(data=data_frame,y=col_name,ax=ax[1])\n",
    "    "
   ]
  },
  {
   "cell_type": "code",
   "execution_count": null,
   "id": "ff356f12-733d-43b5-9900-6830d8902824",
   "metadata": {
    "scrolled": true
   },
   "outputs": [],
   "source": [
    "visualize(x_train_c,'Item_Visibility')"
   ]
  },
  {
   "cell_type": "code",
   "execution_count": null,
   "id": "85a1345a-4f49-42ff-a1a1-1fb3727ac694",
   "metadata": {},
   "outputs": [],
   "source": [
    "visualize(x_train_c,'Item_MRP')"
   ]
  },
  {
   "cell_type": "code",
   "execution_count": null,
   "id": "875a08ec-03e5-4972-8517-2feebb23eee2",
   "metadata": {},
   "outputs": [],
   "source": [
    "visualize(x_train_c,'Outlet_Establishment_Year')"
   ]
  },
  {
   "cell_type": "code",
   "execution_count": null,
   "id": "c24d8a5a-b65c-41ac-b4cf-2d172b874ac1",
   "metadata": {},
   "outputs": [],
   "source": [
    "sns.countplot(data=x_train_c,x='Outlet_Establishment_Year')"
   ]
  },
  {
   "cell_type": "code",
   "execution_count": null,
   "id": "343b75e9-4605-4641-9ec9-73fe1a5c61c4",
   "metadata": {},
   "outputs": [],
   "source": [
    "cat_data=x_train_c.select_dtypes(include=['object'])\n",
    "cat_data"
   ]
  },
  {
   "cell_type": "code",
   "execution_count": null,
   "id": "6a9c430d-ecc4-4b77-a64c-e35aca0745cd",
   "metadata": {
    "scrolled": true
   },
   "outputs": [],
   "source": [
    "cat_data.isnull().sum()"
   ]
  },
  {
   "cell_type": "code",
   "execution_count": null,
   "id": "fc0efba9-1844-45c5-b3f8-f81768438912",
   "metadata": {
    "scrolled": true
   },
   "outputs": [],
   "source": [
    "cat_data.describe()"
   ]
  },
  {
   "cell_type": "code",
   "execution_count": null,
   "id": "7181979c-26de-43e7-9026-c8cda90fbd5c",
   "metadata": {},
   "outputs": [],
   "source": [
    "cat_data['Item_Identifier'].value_counts()"
   ]
  },
  {
   "cell_type": "code",
   "execution_count": null,
   "id": "83410b2b-d2e0-4a20-a47f-0db85443222e",
   "metadata": {},
   "outputs": [],
   "source": [
    "cat_data['Item_Fat_Content'].value_counts()"
   ]
  },
  {
   "cell_type": "code",
   "execution_count": null,
   "id": "60e29656-67ba-468c-b24f-a25d68421722",
   "metadata": {},
   "outputs": [],
   "source": [
    "for i in cat_data:\n",
    "    print(f'Value counts for {i}:')\n",
    "    print(cat_data[i].value_counts())\n",
    "    "
   ]
  },
  {
   "cell_type": "markdown",
   "id": "2826dab0-015d-491d-8209-d027e3f90af6",
   "metadata": {},
   "source": [
    "# Data Wrangling and feature engieering\n"
   ]
  },
  {
   "cell_type": "code",
   "execution_count": null,
   "id": "808d8479-f4df-4a9f-aaeb-514dba57d0c5",
   "metadata": {
    "scrolled": true
   },
   "outputs": [],
   "source": [
    "# create high level item\n",
    "\n",
    "x_train_c['Item_Identifier'].apply(lambda x:x[:2]).value_counts()"
   ]
  },
  {
   "cell_type": "code",
   "execution_count": null,
   "id": "a1ea9401-f223-404c-bee1-54265d832ef2",
   "metadata": {},
   "outputs": [],
   "source": [
    "# another way\n",
    "x_train_c['Item_Identifier'].str[:2].value_counts()"
   ]
  },
  {
   "cell_type": "code",
   "execution_count": null,
   "id": "c637e178-6757-48d9-b8ba-c144100b00df",
   "metadata": {},
   "outputs": [],
   "source": [
    "# map item id into item types\n",
    "\n",
    "def create_item_type(data_frame):\n",
    "    data_frame['Item_Type']=data_frame['Item_Identifier'].str[:2]\n",
    "    data_frame['Item_Type']=data_frame['Item_Type'].map({\n",
    "                                                   'FD':'Food',\n",
    "                                                   'NC': 'Non-Consumables',\n",
    "                                                   'DR': 'Drinks'  })\n",
    "    return data_frame\n",
    "                                          \n",
    "    "
   ]
  },
  {
   "cell_type": "code",
   "execution_count": null,
   "id": "f2b734ae-e040-4504-931f-94120d956e30",
   "metadata": {},
   "outputs": [],
   "source": [
    "x_train_c=create_item_type(x_train_c)\n",
    "x_train_c.head()"
   ]
  },
  {
   "cell_type": "code",
   "execution_count": null,
   "id": "12f37acb-e33b-41f5-a34a-5c03976a6ad0",
   "metadata": {},
   "outputs": [],
   "source": [
    "# filling missing values in item weight\n",
    "\n",
    "x_train_c.isnull().sum()"
   ]
  },
  {
   "cell_type": "code",
   "execution_count": null,
   "id": "513f455d-830b-448b-9a16-4bc4616c5120",
   "metadata": {},
   "outputs": [],
   "source": [
    "x_train_c[['Item_Identifier','Item_Weight']].drop_duplicates().sort_values(by='Item_Identifier')"
   ]
  },
  {
   "cell_type": "code",
   "execution_count": null,
   "id": "613a7071-f74e-48f6-b036-7f50f3a0f16e",
   "metadata": {},
   "outputs": [],
   "source": [
    "x_train_c[['Item_Type','Item_Weight']].drop_duplicates().sort_values(by='Item_Type')"
   ]
  },
  {
   "cell_type": "code",
   "execution_count": null,
   "id": "bfdf0e20-583e-483d-b0c2-755ee61da190",
   "metadata": {},
   "outputs": [],
   "source": [
    "# use mapping of item id -weight to fill missing values\n",
    "\n",
    "item_id_weight_pivot= x_train_c.pivot_table(values='Item_Weight',index='Item_Identifier').reset_index()\n",
    "item_id_weight_mapping= dict(zip(item_id_weight_pivot['Item_Identifier'],item_id_weight_pivot['Item_Weight']))\n",
    "list(item_id_weight_mapping.items())[:10]"
   ]
  },
  {
   "cell_type": "code",
   "execution_count": null,
   "id": "63ea3506-e9b4-456b-aed4-d34b7628f837",
   "metadata": {},
   "outputs": [],
   "source": [
    "# if new_tem comes up\n",
    "\n",
    "item_type_weight_pivot=x_train_c.pivot_table(values='Item_Weight',index='Item_Type',aggfunc='median').reset_index()\n",
    "item_type_weight_mapping= dict(zip(item_type_weight_pivot['Item_Type'],item_type_weight_pivot['Item_Weight']))\n",
    "item_type_weight_mapping.items()"
   ]
  },
  {
   "cell_type": "code",
   "execution_count": null,
   "id": "55a369bd-8e77-4e35-86f9-46cf13b46bff",
   "metadata": {},
   "outputs": [],
   "source": [
    "def impute_item_weight(data_frame):\n",
    "    data_frame.loc[:,'Item_Weight']=data_frame.loc[:,'Item_Weight'].fillna(data_frame.loc[:,'Item_Identifier'].map(item_id_weight_mapping))\n",
    "    data_frame.loc[:,'Item_Weight']=data_frame.loc[:,'Item_Weight'].fillna(data_frame.loc[:,'Item_Type'].map(item_type_weight_mapping))\n",
    "\n",
    "    return data_frame\n",
    "    "
   ]
  },
  {
   "cell_type": "code",
   "execution_count": null,
   "id": "3f34e601-8106-43fa-8d4d-2cdd3b282bdf",
   "metadata": {},
   "outputs": [],
   "source": [
    "x_train_c=impute_item_weight(x_train_c)"
   ]
  },
  {
   "cell_type": "code",
   "execution_count": null,
   "id": "aab4b782-9dd6-4ee3-ae78-91a9fae584eb",
   "metadata": {},
   "outputs": [],
   "source": [
    "x_train_c.isnull().sum()"
   ]
  },
  {
   "cell_type": "code",
   "execution_count": null,
   "id": "e6a4de03-1757-42e3-993c-40ab42c2bef7",
   "metadata": {},
   "outputs": [],
   "source": [
    "# filling missing values for outlet size\n",
    "\n",
    "x_train_c.groupby(by=['Outlet_Type','Outlet_Size']).size()"
   ]
  },
  {
   "cell_type": "code",
   "execution_count": null,
   "id": "339f8954-00ca-4b78-9134-5b02160a54ed",
   "metadata": {},
   "outputs": [],
   "source": [
    "from scipy.stats import mode\n",
    "\n",
    "def calculate_mode(series):\n",
    "    return series.mode().iloc[0] \n",
    "    \n",
    "# Create a pivot table\n",
    "Outlet_type_size_pivot = x_train_c.pivot_table(\n",
    "    values='Outlet_Size',\n",
    "    index='Outlet_Type',\n",
    "    aggfunc=calculate_mode  # Get the mode of the values\n",
    ").reset_index()\n",
    "\n",
    "\n",
    "Outlet_type_size_mapping= dict(zip(Outlet_type_size_pivot['Outlet_Type'],Outlet_type_size_pivot['Outlet_Size']))\n",
    "Outlet_type_size_mapping"
   ]
  },
  {
   "cell_type": "code",
   "execution_count": null,
   "id": "01c78c8e-57b8-4a0c-ae05-bc8ae7d4977f",
   "metadata": {},
   "outputs": [],
   "source": [
    "def impute_outlet_size(data_frame):\n",
    "    data_frame.loc[:,'Outlet_Size']=data_frame.loc[:,'Outlet_Size'].fillna(data_frame.loc[:,'Outlet_Type'].map(Outlet_type_size_mapping))\n",
    "    return data_frame\n",
    "\n",
    "\n",
    "\n"
   ]
  },
  {
   "cell_type": "code",
   "execution_count": null,
   "id": "0b95160f-1c14-40e8-a1ed-7119c14c257d",
   "metadata": {},
   "outputs": [],
   "source": [
    "x_train_c=impute_outlet_size(x_train_c)"
   ]
  },
  {
   "cell_type": "code",
   "execution_count": null,
   "id": "cce8aaa6-4444-4850-ac63-1d311bbe654c",
   "metadata": {
    "scrolled": true
   },
   "outputs": [],
   "source": [
    "x_train_c"
   ]
  },
  {
   "cell_type": "code",
   "execution_count": null,
   "id": "5fc652a2-af77-40ba-8c0f-984e474196db",
   "metadata": {},
   "outputs": [],
   "source": [
    "x_train_c.isnull().sum()"
   ]
  },
  {
   "cell_type": "code",
   "execution_count": null,
   "id": "e68925ce-53cd-4d5a-9341-96f9dce7a241",
   "metadata": {},
   "outputs": [],
   "source": [
    "x_train_c['Item_Fat_Content'].value_counts()"
   ]
  },
  {
   "cell_type": "code",
   "execution_count": null,
   "id": "cf29b047-b3d8-401c-9a4b-efea94d0160e",
   "metadata": {},
   "outputs": [],
   "source": [
    "def create_item_type1(data_frame):\n",
    "    data_frame['Item_Fat_Content']=data_frame['Item_Fat_Content'].replace({\n",
    "                                                   'Low Fat':'Low_Fat',\n",
    "                                                   'reg': 'Regular',\n",
    "                                                   'low fat': 'Low_Fat',\n",
    "                                                   'LF': 'Low_Fat'\n",
    "    })\n",
    "    return data_frame\n",
    "                        "
   ]
  },
  {
   "cell_type": "code",
   "execution_count": null,
   "id": "6ef98a06-a392-4c77-bd40-a5d49d51d1a1",
   "metadata": {},
   "outputs": [],
   "source": [
    "x_train_c=create_item_type1(x_train_c)"
   ]
  },
  {
   "cell_type": "code",
   "execution_count": null,
   "id": "193bacaf-b4a2-4dde-b73f-c2b186be6e17",
   "metadata": {},
   "outputs": [],
   "source": [
    "x_train_c['Item_Fat_Content'].value_counts()"
   ]
  },
  {
   "cell_type": "code",
   "execution_count": null,
   "id": "2dea0e78-c1e2-458d-9aa0-b276b9ad10be",
   "metadata": {},
   "outputs": [],
   "source": [
    "x_train_c.groupby(by=['Item_Type','Item_Fat_Content']).size()"
   ]
  },
  {
   "cell_type": "code",
   "execution_count": null,
   "id": "32c8eb79-c1c4-48bb-b23d-cde0b7c72cf9",
   "metadata": {},
   "outputs": [],
   "source": [
    "x_train_c.loc[x_train_c['Item_Type']=='Non-Consumables','Item_Fat_Content']"
   ]
  },
  {
   "cell_type": "code",
   "execution_count": null,
   "id": "79a2e212-f5f9-4fb6-9913-08da22fb65a6",
   "metadata": {},
   "outputs": [],
   "source": [
    "def correct_item_fat_content(data_frame):\n",
    "    data_frame.loc[data_frame['Item_Type']=='Non-Consumables','Item_Fat_Content']='Non_Edible'\n",
    "    return data_frame"
   ]
  },
  {
   "cell_type": "code",
   "execution_count": null,
   "id": "166c0439-bfb6-4441-bbcd-af72cfb30804",
   "metadata": {},
   "outputs": [],
   "source": [
    "x_train_c=correct_item_fat_content(x_train_c)"
   ]
  },
  {
   "cell_type": "code",
   "execution_count": null,
   "id": "583ddd00-552c-4059-bfff-b59e530c1fc9",
   "metadata": {},
   "outputs": [],
   "source": [
    "x_train_c.groupby(by=['Item_Type','Item_Fat_Content']).size()"
   ]
  },
  {
   "cell_type": "code",
   "execution_count": null,
   "id": "a4260cf3-8d7a-4a6b-8376-f5bc3d548242",
   "metadata": {},
   "outputs": [],
   "source": [
    "x_train_c.info()"
   ]
  },
  {
   "cell_type": "code",
   "execution_count": null,
   "id": "4f8ff0d2-0f1f-44e5-97ff-be941cb14730",
   "metadata": {},
   "outputs": [],
   "source": [
    "def prepare_dataset(data_frame):\n",
    "    data_frame=create_item_type(data_frame)\n",
    "    data_frame=impute_item_weight(data_frame)\n",
    "    data_frame=impute_outlet_size(data_frame)\n",
    "    data_frame=create_item_type1(data_frame)\n",
    "    data_frame=correct_item_fat_content(data_frame)\n",
    "    return data_frame\n",
    "    "
   ]
  },
  {
   "cell_type": "code",
   "execution_count": null,
   "id": "5e0f03f0-eaa9-4c49-a0d4-bf92ba2ac954",
   "metadata": {},
   "outputs": [],
   "source": [
    "x_train.isnull().sum()"
   ]
  },
  {
   "cell_type": "code",
   "execution_count": null,
   "id": "5c5eb16b-0227-4f01-8a2e-04ec46596a38",
   "metadata": {},
   "outputs": [],
   "source": [
    "x_train=prepare_dataset(x_train)\n",
    "x_train.isnull().sum()"
   ]
  },
  {
   "cell_type": "code",
   "execution_count": null,
   "id": "a0da4176-2fa8-4892-a59f-1ea610c94280",
   "metadata": {},
   "outputs": [],
   "source": [
    "x_test.isnull().sum()"
   ]
  },
  {
   "cell_type": "code",
   "execution_count": null,
   "id": "8d362988-19b9-4b81-9eff-2b14124dbc45",
   "metadata": {},
   "outputs": [],
   "source": [
    "x_test=prepare_dataset(x_test)"
   ]
  },
  {
   "cell_type": "code",
   "execution_count": null,
   "id": "85a7c044-f12a-46d5-ae3a-1b1d6a7ad0c0",
   "metadata": {},
   "outputs": [],
   "source": [
    "x_test.isnull().sum()"
   ]
  },
  {
   "cell_type": "markdown",
   "id": "060f821d-740e-45c4-a74f-4a727844c983",
   "metadata": {},
   "source": [
    "# handling categorical data"
   ]
  },
  {
   "cell_type": "code",
   "execution_count": null,
   "id": "41d9a75b-2214-4ba3-bc17-a86394205503",
   "metadata": {},
   "outputs": [],
   "source": [
    "cat_feats=x_train.select_dtypes(include=['object'])\n",
    "cat_feats.head()"
   ]
  },
  {
   "cell_type": "code",
   "execution_count": null,
   "id": "b28b65a2-d75e-478e-86be-0de650f0083b",
   "metadata": {},
   "outputs": [],
   "source": [
    "from sklearn.preprocessing import OneHotEncoder"
   ]
  },
  {
   "cell_type": "code",
   "execution_count": null,
   "id": "9aac2d64-1a67-4be2-af0d-1195b4c4341b",
   "metadata": {},
   "outputs": [],
   "source": [
    "ohe=OneHotEncoder(handle_unknown='ignore')"
   ]
  },
  {
   "cell_type": "code",
   "execution_count": null,
   "id": "c98254f6-d6df-4b81-a213-6b0d3a58d482",
   "metadata": {},
   "outputs": [],
   "source": [
    "ohe.fit(cat_feats)"
   ]
  },
  {
   "cell_type": "code",
   "execution_count": null,
   "id": "1a806b24-e92c-4f5c-aa33-385ac6ebed30",
   "metadata": {},
   "outputs": [],
   "source": [
    "ohe_feature_names=ohe.get_feature_names_out(input_features=cat_feats.columns)\n",
    "ohe_feature_names"
   ]
  },
  {
   "cell_type": "code",
   "execution_count": null,
   "id": "bd7595a8-dd36-4daa-b856-20a3ddac62eb",
   "metadata": {},
   "outputs": [],
   "source": [
    "num_feat_train=x_train.select_dtypes(exclude=['object']).reset_index(drop=True)\n",
    "num_feat_train.head()"
   ]
  },
  {
   "cell_type": "code",
   "execution_count": null,
   "id": "4d3a7ed5-952f-49cd-8df8-d582a6b866ed",
   "metadata": {},
   "outputs": [],
   "source": [
    "cat_feat_train=x_train.select_dtypes(include=['object'])\n",
    "x_train_cat_ohe=pd.DataFrame(ohe.transform(cat_feat_train).toarray(),columns=ohe_feature_names)\n",
    "x_train_cat_ohe.head()"
   ]
  },
  {
   "cell_type": "code",
   "execution_count": null,
   "id": "bdae261f-4cfa-4b55-bc4d-676fce4fa992",
   "metadata": {},
   "outputs": [],
   "source": [
    "x_train_final=pd.concat([num_feat_train,x_train_cat_ohe],axis=1)\n",
    "x_train_final.head()"
   ]
  },
  {
   "cell_type": "code",
   "execution_count": null,
   "id": "fda76e92-af57-4279-b3ef-1d7b358ef2a1",
   "metadata": {},
   "outputs": [],
   "source": [
    "final_col=x_train_final.columns.values\n",
    "final_col"
   ]
  },
  {
   "cell_type": "code",
   "execution_count": null,
   "id": "850968f9-ec3f-4fa3-a617-ca84c1e99e43",
   "metadata": {},
   "outputs": [],
   "source": [
    "num_feat_test=x_test.select_dtypes(exclude=['object']).reset_index(drop=True)\n",
    "cat_feat_test=x_test.select_dtypes(include=['object'])\n",
    "x_test_cat_ohe=pd.DataFrame(ohe.transform(cat_feat_test).toarray(),columns=ohe_feature_names)\n",
    "x_test_final=pd.concat([num_feat_test,x_test_cat_ohe],axis=1)\n",
    "x_test_final=x_test_final[final_col]\n",
    "\n",
    "x_test_final.head()\n"
   ]
  },
  {
   "cell_type": "markdown",
   "id": "fe309205-ae43-406a-90cf-dc7188266a4d",
   "metadata": {},
   "source": [
    "# Modelling"
   ]
  },
  {
   "cell_type": "code",
   "execution_count": null,
   "id": "95d57a06-4b87-49e1-bd86-9f7d36b4caec",
   "metadata": {},
   "outputs": [],
   "source": [
    "sns.histplot(y_train)"
   ]
  },
  {
   "cell_type": "code",
   "execution_count": null,
   "id": "ae4a5332-3c82-4a8e-b0ab-12ef0d067f9a",
   "metadata": {},
   "outputs": [],
   "source": [
    "!pip install xgboost\n",
    "!pip install lightgbm\n",
    "\n",
    "\n",
    "from sklearn.ensemble import RandomForestRegressor,GradientBoostingRegressor,HistGradientBoostingRegressor\n",
    "import xgboost as xgb\n",
    "from lightgbm import LGBMRegressor\n",
    "from sklearn.model_selection import cross_validate\n",
    "import numpy as np"
   ]
  },
  {
   "cell_type": "code",
   "execution_count": null,
   "id": "abfe58bb-3d2d-4240-9a55-e2a8ef8643c0",
   "metadata": {
    "scrolled": true
   },
   "outputs": [],
   "source": [
    "x_test_final.shape"
   ]
  },
  {
   "cell_type": "code",
   "execution_count": null,
   "id": "a3eb12d6-467a-4a48-aee9-e5df25311ca7",
   "metadata": {},
   "outputs": [],
   "source": [
    "def evaluate_model_simple(model, x, y, test_size=0.2, random_state=None):\n",
    "    x_train, x_test, y_train, y_test = train_test_split(x, y, test_size=test_size, random_state=random_state)\n",
    "    \n",
    "    # Fit the model\n",
    "    model.fit(x_train, y_train)\n",
    "    \n",
    "    # Predict on the test set\n",
    "    y_pred = model.predict(x_test)\n",
    "    \n",
    "    # Calculate R² and RMSE\n",
    "    r2 = r2_score(y_test, y_pred)\n",
    "    rmse = np.sqrt(mean_squared_error(y_test, y_pred))\n",
    "    \n",
    "    print('R² score:', r2)\n",
    "    print('RMSE:', rmse)\n"
   ]
  },
  {
   "cell_type": "code",
   "execution_count": null,
   "id": "4c20eb26-8e25-43e4-b58e-43536243d614",
   "metadata": {},
   "outputs": [],
   "source": [
    "rf = RandomForestRegressor(random_state=11)\n",
    "gb = GradientBoostingRegressor(random_state=11)"
   ]
  },
  {
   "cell_type": "code",
   "execution_count": null,
   "id": "c0752509-4783-46e9-a2ff-0895ffceede3",
   "metadata": {},
   "outputs": [],
   "source": [
    "\n",
    "from sklearn.metrics import mean_squared_error, r2_score\n",
    "\n",
    "# Evaluate RandomForestRegressor\n",
    "print(\"RandomForestRegressor:\")\n",
    "evaluate_model_simple(rf, x=x_train_final, y=y_train)\n",
    "\n",
    "# Evaluate GradientBoostingRegressor\n",
    "print(\"\\nGradientBoostingRegressor:\")\n",
    "evaluate_model_simple(gb, x=x_train_final, y=y_train)"
   ]
  },
  {
   "cell_type": "code",
   "execution_count": null,
   "id": "922ab07c-e58f-4532-9761-4113d2b03103",
   "metadata": {},
   "outputs": [],
   "source": [
    "xgr=xgb.XGBRegressor(objective='reg:squarederror',random_state=11)\n",
    "evaluate_model_simple(model=xgr,x=x_train_final,y=y_train)"
   ]
  },
  {
   "cell_type": "code",
   "execution_count": null,
   "id": "ab10e361-6752-4dcb-9179-e5329fb01735",
   "metadata": {},
   "outputs": [],
   "source": [
    "\n",
    "num_feats_test=x_train.select_dtypes(exclude=['object']).reset_index(drop=True)\n",
    "cat_feats_test=x_train.select_dtypes(include=['object']).drop(columns=['Item_Identifier'])\n",
    "x_train_cat_ohe=pd.DataFrame(ohe.transform(cat_feats_test).toarray(),columns=ohe_feature_names)\n",
    "x_train_final=pd.concat([num_feats_test,hashed_test_df,x_test_cat_ohe],axis=1)\n",
    "x_train_final.head()"
   ]
  },
  {
   "cell_type": "code",
   "execution_count": null,
   "id": "9728f1b0-413b-4834-9758-afdf3bf6b96a",
   "metadata": {},
   "outputs": [],
   "source": [
    "importances = gb.feature_importances_\n",
    "feature_names = x_train_final.columns  # Assuming x is a DataFrame\n",
    "\n",
    "# Create a DataFrame to display feature importance\n",
    "importance_df = pd.DataFrame({\n",
    "    'Feature': feature_names,\n",
    "    'Importance': importances\n",
    "}).sort_values(by='Importance', ascending=False)\n",
    "\n",
    "# Plot feature importances\n",
    "plt.figure(figsize=(20, 10))\n",
    "plt.barh(importance_df['Feature'], importance_df['Importance'])\n",
    "plt.xlabel('Importance')\n",
    "plt.title('Feature Importances from GradientBoostingRegressor')\n",
    "plt.gca().invert_yaxis()  # Display the most important feature on top\n",
    "plt.show()"
   ]
  },
  {
   "cell_type": "code",
   "execution_count": null,
   "id": "d42353b0-2a9e-4222-bd6f-9582bc233f6c",
   "metadata": {},
   "outputs": [],
   "source": [
    "feature_names.shape"
   ]
  },
  {
   "cell_type": "markdown",
   "id": "fb9f8eb6",
   "metadata": {},
   "source": [
    "## 🛠️ Data Preprocessing & Feature Engineering\n",
    "\n",
    "We'll parse the `Date` column and extract useful time-based features like `month` and `year` for analysis and modeling.\n"
   ]
  },
  {
   "cell_type": "markdown",
   "id": "4960c5b3",
   "metadata": {},
   "source": [
    "## 📊 Exploratory Data Analysis (EDA)\n",
    "\n",
    "We'll analyze overall trends, monthly seasonality, and other patterns in sales.\n"
   ]
  },
  {
   "cell_type": "markdown",
   "id": "35280521",
   "metadata": {},
   "source": [
    "## 🤖 Model Building\n",
    "\n",
    "We’ll use a Linear Regression model to forecast sales. We’ll split the data into train and test sets and evaluate the model using RMSE and R² score.\n"
   ]
  },
  {
   "cell_type": "markdown",
   "id": "60b66bbc",
   "metadata": {},
   "source": [
    "## 📈 Forecast Visualization\n",
    "\n",
    "We'll visualize actual vs. predicted sales to evaluate the model’s performance and interpretability.\n"
   ]
  },
  {
   "cell_type": "markdown",
   "id": "d36d8b18",
   "metadata": {},
   "source": [
    "## 📌 Business Insights & Recommendations\n",
    "\n",
    "- Sales show a seasonal trend with higher demand in certain months.\n",
    "- Forecasts help with inventory planning and sales strategy.\n",
    "- Recommend increasing stock and marketing in peak months identified through the model.\n",
    "\n"
   ]
  },
  {
   "cell_type": "markdown",
   "id": "1c212a3a",
   "metadata": {},
   "source": [
    "## 🚀 Future Improvements\n",
    "\n",
    "- Try more advanced models like ARIMA, XGBoost, or Prophet.\n",
    "- Incorporate external factors like promotions, holidays, or weather data.\n"
   ]
  }
 ],
 "metadata": {
  "kernelspec": {
   "display_name": "Python 3 (ipykernel)",
   "language": "python",
   "name": "python3"
  },
  "language_info": {
   "codemirror_mode": {
    "name": "ipython",
    "version": 3
   },
   "file_extension": ".py",
   "mimetype": "text/x-python",
   "name": "python",
   "nbconvert_exporter": "python",
   "pygments_lexer": "ipython3",
   "version": "3.12.4"
  }
 },
 "nbformat": 4,
 "nbformat_minor": 5
}
